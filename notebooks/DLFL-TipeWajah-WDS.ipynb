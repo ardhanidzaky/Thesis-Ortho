{
 "cells": [
  {
   "cell_type": "markdown",
   "metadata": {},
   "source": [
    "# Prequisite"
   ]
  },
  {
   "cell_type": "markdown",
   "metadata": {},
   "source": [
    "## Libraries"
   ]
  },
  {
   "cell_type": "code",
   "execution_count": 1,
   "metadata": {
    "scrolled": true,
    "tags": []
   },
   "outputs": [],
   "source": [
    "# Comment if trained locally, uncomment if trained on GCP\n",
    "# !pip install torch==1.13.1+cu117 torchvision==0.14.1+cu117 torchtext==0.14.1 torchaudio==0.13.1 torchdata==0.5.1 --extra-index-url https://download.pytorch.org/whl/cu117"
   ]
  },
  {
   "cell_type": "code",
   "execution_count": 2,
   "metadata": {},
   "outputs": [],
   "source": [
    "# !pip install torchvision==0.16.0 --q\n",
    "# !pip install opencv-python --q"
   ]
  },
  {
   "cell_type": "code",
   "execution_count": 3,
   "metadata": {},
   "outputs": [],
   "source": [
    "# pip install openpyxl"
   ]
  },
  {
   "cell_type": "code",
   "execution_count": 4,
   "metadata": {
    "editable": true,
    "executionInfo": {
     "elapsed": 6048,
     "status": "ok",
     "timestamp": 1696081183440,
     "user": {
      "displayName": "Ardhani Dzaky Ralfiano",
      "userId": "00254749370135514461"
     },
     "user_tz": -420
    },
    "id": "ZfdIIzegqPOp",
    "slideshow": {
     "slide_type": ""
    },
    "tags": []
   },
   "outputs": [],
   "source": [
    "import os\n",
    "import pandas as pd\n",
    "import numpy as np\n",
    "import cv2\n",
    "\n",
    "import PIL\n",
    "from PIL import Image\n",
    "from IPython.display import display\n",
    "\n",
    "import torch\n",
    "import torch.nn as nn\n",
    "import torch.nn.functional as F\n",
    "import torch.optim as optim\n",
    "from torch.utils.data import DataLoader, Dataset\n",
    "\n",
    "import torchvision\n",
    "import torchvision.transforms as T\n",
    "import torchvision.models as models\n",
    "\n",
    "import pytorch_lightning as pl\n",
    "from pytorch_lightning.loggers import TensorBoardLogger\n",
    "\n",
    "from sklearn.model_selection import train_test_split\n",
    "from sklearn.preprocessing import OrdinalEncoder"
   ]
  },
  {
   "cell_type": "code",
   "execution_count": 5,
   "metadata": {},
   "outputs": [
    {
     "name": "stdout",
     "output_type": "stream",
     "text": [
      "PyTorch version: 2.1.0\n",
      "torchvision version: 0.16.0\n"
     ]
    }
   ],
   "source": [
    "print(\"PyTorch version:\", torch.__version__)\n",
    "print(\"torchvision version:\", torchvision.__version__)"
   ]
  },
  {
   "cell_type": "code",
   "execution_count": 46,
   "metadata": {
    "executionInfo": {
     "elapsed": 17,
     "status": "ok",
     "timestamp": 1696081183440,
     "user": {
      "displayName": "Ardhani Dzaky Ralfiano",
      "userId": "00254749370135514461"
     },
     "user_tz": -420
    },
    "id": "rzuN7bL8qjld"
   },
   "outputs": [],
   "source": [
    "ROOT = '../../dataset/v1'"
   ]
  },
  {
   "cell_type": "code",
   "execution_count": 7,
   "metadata": {
    "executionInfo": {
     "elapsed": 17,
     "status": "ok",
     "timestamp": 1696081183441,
     "user": {
      "displayName": "Ardhani Dzaky Ralfiano",
      "userId": "00254749370135514461"
     },
     "user_tz": -420
    },
    "id": "LGvo_oyMqtzw"
   },
   "outputs": [
    {
     "name": "stdout",
     "output_type": "stream",
     "text": [
      "mps\n"
     ]
    }
   ],
   "source": [
    "# Uncomment if trained on GCP\n",
    "# device = torch.device(\"cuda\" if torch.cuda.is_available() else \"cpu\")\n",
    "\n",
    "# Uncomment if trained locally\n",
    "device = torch.device(\"mps\")\n",
    "print(device)"
   ]
  },
  {
   "cell_type": "code",
   "execution_count": 8,
   "metadata": {},
   "outputs": [],
   "source": [
    "MOD_DICT = {\n",
    "    1: 'EfficientNet'\n",
    "    , 2: 'MobileNet'\n",
    "    , 3: 'ShuffleNet'\n",
    "    , 4: 'EfficientNet-b5'\n",
    "    , 5: 'EfficientNet-b7'\n",
    "}"
   ]
  },
  {
   "cell_type": "markdown",
   "metadata": {
    "id": "xHjudcyqqIq6"
   },
   "source": [
    "## Dataset"
   ]
  },
  {
   "cell_type": "markdown",
   "metadata": {},
   "source": [
    "### Dataset Class and Functions"
   ]
  },
  {
   "cell_type": "code",
   "execution_count": 9,
   "metadata": {},
   "outputs": [],
   "source": [
    "def crop_face(image_path, target_width=300, target_height=400):\n",
    "    image = cv2.imread(image_path)\n",
    "    image = cv2.resize(image, (target_width, target_height))\n",
    "\n",
    "    if image is None:\n",
    "        raise ValueError(\"Unable to load the image from the given path.\")\n",
    "\n",
    "    face_cascade = cv2.CascadeClassifier(\"../../haarcascade_frontalface_default.xml\")\n",
    "    faces = face_cascade.detectMultiScale(image, scaleFactor=1.1, minNeighbors=5)\n",
    "\n",
    "    if len(faces) > 0:\n",
    "        x, y, w, h = faces[0]\n",
    "        padding = int(max(0.15*(x+w), 0.15*(y+h)))\n",
    "\n",
    "        width_scale, height_scale = target_width / w, target_height / h\n",
    "        scale = min(width_scale, height_scale)\n",
    "\n",
    "        resized_face = cv2.resize(image[y-30:y+h+30, x:x+w], None, fx=scale, fy=scale)\n",
    "        image = resized_face\n",
    "\n",
    "    return image, cv2.cvtColor(image, cv2.COLOR_BGR2GRAY)"
   ]
  },
  {
   "cell_type": "code",
   "execution_count": 10,
   "metadata": {},
   "outputs": [],
   "source": [
    "class CustomDataset(Dataset):\n",
    "    def __init__(self, dataframe, root, transform=None):\n",
    "        self.dataframe = dataframe\n",
    "        self.root = root\n",
    "        self.transform = transform\n",
    "\n",
    "    def __len__(self):\n",
    "        return len(self.dataframe)\n",
    "\n",
    "    def __getitem__(self, idx):\n",
    "        img_path = os.path.join(self.root, self.dataframe.iloc[idx, 0])\n",
    "        image, _ = crop_face(img_path)\n",
    "        image = Image.fromarray(image)\n",
    "        if self.transform: image = self.transform(image)\n",
    "\n",
    "        numerical_features = np.array(\n",
    "            [float(self.dataframe.iloc[idx, i]) for i in range(2, 138)], dtype=np.float32\n",
    "        )\n",
    "        \n",
    "        label = int(self.dataframe.iloc[idx, 1])\n",
    "\n",
    "        return image, numerical_features, label"
   ]
  },
  {
   "cell_type": "markdown",
   "metadata": {},
   "source": [
    "### Processes"
   ]
  },
  {
   "cell_type": "code",
   "execution_count": 11,
   "metadata": {},
   "outputs": [
    {
     "data": {
      "text/html": [
       "<div>\n",
       "<style scoped>\n",
       "    .dataframe tbody tr th:only-of-type {\n",
       "        vertical-align: middle;\n",
       "    }\n",
       "\n",
       "    .dataframe tbody tr th {\n",
       "        vertical-align: top;\n",
       "    }\n",
       "\n",
       "    .dataframe thead th {\n",
       "        text-align: right;\n",
       "    }\n",
       "</style>\n",
       "<table border=\"1\" class=\"dataframe\">\n",
       "  <thead>\n",
       "    <tr style=\"text-align: right;\">\n",
       "      <th></th>\n",
       "      <th>nama</th>\n",
       "      <th>tampak_depan_root</th>\n",
       "      <th>full_depan</th>\n",
       "      <th>tampak_samping_root</th>\n",
       "      <th>full_samping</th>\n",
       "      <th>tampak_senyum_root</th>\n",
       "      <th>full_senyum</th>\n",
       "      <th>tipe</th>\n",
       "      <th>simetris</th>\n",
       "      <th>seimbang</th>\n",
       "      <th>transversal</th>\n",
       "      <th>profil</th>\n",
       "      <th>nasolabial</th>\n",
       "      <th>mentolabial</th>\n",
       "      <th>segaris</th>\n",
       "      <th>bukal</th>\n",
       "      <th>kurva</th>\n",
       "      <th>garis</th>\n",
       "    </tr>\n",
       "  </thead>\n",
       "  <tbody>\n",
       "    <tr>\n",
       "      <th>0</th>\n",
       "      <td>aisyahi</td>\n",
       "      <td>tampak_depan</td>\n",
       "      <td>tampak_depan/aisyahi.jpg</td>\n",
       "      <td>tampak_samping</td>\n",
       "      <td>tampak_samping/aisyahi.jpg</td>\n",
       "      <td>tampak_senyum</td>\n",
       "      <td>tampak_senyum/aisyahi.jpg</td>\n",
       "      <td>doliko</td>\n",
       "      <td>asimetris</td>\n",
       "      <td>tidak</td>\n",
       "      <td>tidak</td>\n",
       "      <td>cekung</td>\n",
       "      <td>normal</td>\n",
       "      <td>lebar</td>\n",
       "      <td>ya</td>\n",
       "      <td>lebar</td>\n",
       "      <td>datar</td>\n",
       "      <td>tinggi</td>\n",
       "    </tr>\n",
       "    <tr>\n",
       "      <th>1</th>\n",
       "      <td>alfira</td>\n",
       "      <td>tampak_depan</td>\n",
       "      <td>tampak_depan/alfira.jpg</td>\n",
       "      <td>tampak_samping</td>\n",
       "      <td>tampak_samping/alfira.jpg</td>\n",
       "      <td>tampak_senyum</td>\n",
       "      <td>tampak_senyum/alfira.jpg</td>\n",
       "      <td>doliko</td>\n",
       "      <td>simetris</td>\n",
       "      <td>ya</td>\n",
       "      <td>ya</td>\n",
       "      <td>cembung</td>\n",
       "      <td>tajam</td>\n",
       "      <td>tumpul</td>\n",
       "      <td>ya</td>\n",
       "      <td>sedang</td>\n",
       "      <td>konsonan</td>\n",
       "      <td>rendah</td>\n",
       "    </tr>\n",
       "    <tr>\n",
       "      <th>2</th>\n",
       "      <td>despasya</td>\n",
       "      <td>tampak_depan</td>\n",
       "      <td>tampak_depan/despasya.jpg</td>\n",
       "      <td>tampak_samping</td>\n",
       "      <td>tampak_samping/despasya.jpg</td>\n",
       "      <td>tampak_senyum</td>\n",
       "      <td>tampak_senyum/despasya.jpg</td>\n",
       "      <td>doliko</td>\n",
       "      <td>simetris</td>\n",
       "      <td>ya</td>\n",
       "      <td>tidak</td>\n",
       "      <td>cembung</td>\n",
       "      <td>tajam</td>\n",
       "      <td>tumpul</td>\n",
       "      <td>ya</td>\n",
       "      <td>lebar</td>\n",
       "      <td>datar</td>\n",
       "      <td>sedang</td>\n",
       "    </tr>\n",
       "    <tr>\n",
       "      <th>3</th>\n",
       "      <td>galuh</td>\n",
       "      <td>tampak_depan</td>\n",
       "      <td>tampak_depan/galuh.jpg</td>\n",
       "      <td>tampak_samping</td>\n",
       "      <td>tampak_samping/galuh.jpg</td>\n",
       "      <td>tampak_senyum</td>\n",
       "      <td>tampak_senyum/galuh.jpg</td>\n",
       "      <td>doliko</td>\n",
       "      <td>simetris</td>\n",
       "      <td>ya</td>\n",
       "      <td>ya</td>\n",
       "      <td>cekung</td>\n",
       "      <td>tajam</td>\n",
       "      <td>tumpul</td>\n",
       "      <td>ya</td>\n",
       "      <td>leabar</td>\n",
       "      <td>konsonan</td>\n",
       "      <td>tinggi</td>\n",
       "    </tr>\n",
       "    <tr>\n",
       "      <th>4</th>\n",
       "      <td>happy</td>\n",
       "      <td>tampak_depan</td>\n",
       "      <td>tampak_depan/happy.jpg</td>\n",
       "      <td>tampak_samping</td>\n",
       "      <td>tampak_samping/happy.jpg</td>\n",
       "      <td>tampak_senyum</td>\n",
       "      <td>tampak_senyum/happy.jpg</td>\n",
       "      <td>brachy</td>\n",
       "      <td>simetris</td>\n",
       "      <td>ya</td>\n",
       "      <td>tidak</td>\n",
       "      <td>cembung</td>\n",
       "      <td>normal</td>\n",
       "      <td>tumpul</td>\n",
       "      <td>tidak</td>\n",
       "      <td>sedang</td>\n",
       "      <td>datar</td>\n",
       "      <td>rendah</td>\n",
       "    </tr>\n",
       "  </tbody>\n",
       "</table>\n",
       "</div>"
      ],
      "text/plain": [
       "       nama tampak_depan_root                 full_depan tampak_samping_root  \\\n",
       "0   aisyahi      tampak_depan   tampak_depan/aisyahi.jpg      tampak_samping   \n",
       "1    alfira      tampak_depan    tampak_depan/alfira.jpg      tampak_samping   \n",
       "2  despasya      tampak_depan  tampak_depan/despasya.jpg      tampak_samping   \n",
       "3     galuh      tampak_depan     tampak_depan/galuh.jpg      tampak_samping   \n",
       "4     happy      tampak_depan     tampak_depan/happy.jpg      tampak_samping   \n",
       "\n",
       "                  full_samping tampak_senyum_root                 full_senyum  \\\n",
       "0   tampak_samping/aisyahi.jpg      tampak_senyum   tampak_senyum/aisyahi.jpg   \n",
       "1    tampak_samping/alfira.jpg      tampak_senyum    tampak_senyum/alfira.jpg   \n",
       "2  tampak_samping/despasya.jpg      tampak_senyum  tampak_senyum/despasya.jpg   \n",
       "3     tampak_samping/galuh.jpg      tampak_senyum     tampak_senyum/galuh.jpg   \n",
       "4     tampak_samping/happy.jpg      tampak_senyum     tampak_senyum/happy.jpg   \n",
       "\n",
       "     tipe   simetris seimbang transversal   profil nasolabial mentolabial  \\\n",
       "0  doliko  asimetris    tidak       tidak   cekung     normal       lebar   \n",
       "1  doliko   simetris       ya          ya  cembung      tajam      tumpul   \n",
       "2  doliko   simetris       ya       tidak  cembung      tajam      tumpul   \n",
       "3  doliko   simetris       ya          ya   cekung      tajam      tumpul   \n",
       "4  brachy   simetris       ya       tidak  cembung     normal      tumpul   \n",
       "\n",
       "  segaris   bukal     kurva   garis  \n",
       "0      ya   lebar     datar  tinggi  \n",
       "1      ya  sedang  konsonan  rendah  \n",
       "2      ya   lebar     datar  sedang  \n",
       "3      ya  leabar  konsonan  tinggi  \n",
       "4   tidak  sedang     datar  rendah  "
      ]
     },
     "execution_count": 11,
     "metadata": {},
     "output_type": "execute_result"
    }
   ],
   "source": [
    "df = pd.read_excel('../../dataset/df_cls.xlsx')\n",
    "df.dropna()\n",
    "df.head()"
   ]
  },
  {
   "cell_type": "code",
   "execution_count": 12,
   "metadata": {
    "executionInfo": {
     "elapsed": 942,
     "status": "ok",
     "timestamp": 1696081309593,
     "user": {
      "displayName": "Ardhani Dzaky Ralfiano",
      "userId": "00254749370135514461"
     },
     "user_tz": -420
    },
    "id": "7Y1OYgMRMkS0"
   },
   "outputs": [],
   "source": [
    "TASKS = [\n",
    "    'tipe', 'simetris', 'seimbang', 'transversal'\n",
    "    , 'profil', 'nasolabial', 'mentolabial', 'segaris'\n",
    "    , 'bukal', 'kurva', 'garis'\n",
    "]\n",
    "df_tasks_dict = {}\n",
    "\n",
    "for task in TASKS:\n",
    "    if task in ['tipe', 'seimbang', 'simetris', 'transversal']:\n",
    "        df_tasks_dict[task] = df[['full_depan', task]]\n",
    "    elif task in ['profil', 'nasolabial', 'mentolabial']:\n",
    "        df_tasks_dict[task] = df[['full_samping', task]]\n",
    "    else: df_tasks_dict[task] = df[['full_senyum', task]]"
   ]
  },
  {
   "cell_type": "code",
   "execution_count": 13,
   "metadata": {},
   "outputs": [],
   "source": [
    "desired_size = (300, 400)\n",
    "\n",
    "train_transform = T.Compose([\n",
    "    T.Resize(desired_size),\n",
    "    T.ToTensor()\n",
    "])\n",
    "\n",
    "val_transform = T.Compose([\n",
    "    T.Resize(desired_size),\n",
    "    T.ToTensor()\n",
    "])"
   ]
  },
  {
   "cell_type": "markdown",
   "metadata": {},
   "source": [
    "### Add Facial Landmarks Features"
   ]
  },
  {
   "cell_type": "code",
   "execution_count": 14,
   "metadata": {},
   "outputs": [],
   "source": [
    "import dlib\n",
    "import cv2\n",
    "import numpy as np\n",
    "\n",
    "from PIL import Image, ImageDraw\n",
    "import matplotlib.pyplot as plt\n",
    "from sklearn.metrics import classification_report"
   ]
  },
  {
   "cell_type": "code",
   "execution_count": 15,
   "metadata": {},
   "outputs": [],
   "source": [
    "detector = dlib.get_frontal_face_detector()\n",
    "predictor = dlib.shape_predictor(\"../../shape_predictor_68_face_landmarks.dat\")"
   ]
  },
  {
   "cell_type": "code",
   "execution_count": 16,
   "metadata": {},
   "outputs": [
    {
     "data": {
      "text/html": [
       "<div>\n",
       "<style scoped>\n",
       "    .dataframe tbody tr th:only-of-type {\n",
       "        vertical-align: middle;\n",
       "    }\n",
       "\n",
       "    .dataframe tbody tr th {\n",
       "        vertical-align: top;\n",
       "    }\n",
       "\n",
       "    .dataframe thead th {\n",
       "        text-align: right;\n",
       "    }\n",
       "</style>\n",
       "<table border=\"1\" class=\"dataframe\">\n",
       "  <thead>\n",
       "    <tr style=\"text-align: right;\">\n",
       "      <th></th>\n",
       "      <th>nama</th>\n",
       "      <th>full_depan</th>\n",
       "      <th>tipe</th>\n",
       "      <th>path</th>\n",
       "    </tr>\n",
       "  </thead>\n",
       "  <tbody>\n",
       "    <tr>\n",
       "      <th>46</th>\n",
       "      <td>28</td>\n",
       "      <td>tampak_depan/28.jpg</td>\n",
       "      <td>doliko</td>\n",
       "      <td>../../dataset/v1/tampak_depan/28.jpg</td>\n",
       "    </tr>\n",
       "    <tr>\n",
       "      <th>37</th>\n",
       "      <td>19</td>\n",
       "      <td>tampak_depan/19.jpg</td>\n",
       "      <td>brachy</td>\n",
       "      <td>../../dataset/v1/tampak_depan/19.jpg</td>\n",
       "    </tr>\n",
       "    <tr>\n",
       "      <th>12</th>\n",
       "      <td>qonita</td>\n",
       "      <td>tampak_depan/qonita.jpg</td>\n",
       "      <td>doliko</td>\n",
       "      <td>../../dataset/v1/tampak_depan/qonita.jpg</td>\n",
       "    </tr>\n",
       "    <tr>\n",
       "      <th>13</th>\n",
       "      <td>rini</td>\n",
       "      <td>tampak_depan/rini.jpg</td>\n",
       "      <td>brachy</td>\n",
       "      <td>../../dataset/v1/tampak_depan/rini.jpg</td>\n",
       "    </tr>\n",
       "    <tr>\n",
       "      <th>10</th>\n",
       "      <td>nadya</td>\n",
       "      <td>tampak_depan/nadya.jpg</td>\n",
       "      <td>meso</td>\n",
       "      <td>../../dataset/v1/tampak_depan/nadya.jpg</td>\n",
       "    </tr>\n",
       "  </tbody>\n",
       "</table>\n",
       "</div>"
      ],
      "text/plain": [
       "      nama               full_depan    tipe  \\\n",
       "46      28      tampak_depan/28.jpg  doliko   \n",
       "37      19      tampak_depan/19.jpg  brachy   \n",
       "12  qonita  tampak_depan/qonita.jpg  doliko   \n",
       "13    rini    tampak_depan/rini.jpg  brachy   \n",
       "10   nadya   tampak_depan/nadya.jpg    meso   \n",
       "\n",
       "                                        path  \n",
       "46      ../../dataset/v1/tampak_depan/28.jpg  \n",
       "37      ../../dataset/v1/tampak_depan/19.jpg  \n",
       "12  ../../dataset/v1/tampak_depan/qonita.jpg  \n",
       "13    ../../dataset/v1/tampak_depan/rini.jpg  \n",
       "10   ../../dataset/v1/tampak_depan/nadya.jpg  "
      ]
     },
     "execution_count": 16,
     "metadata": {},
     "output_type": "execute_result"
    }
   ],
   "source": [
    "df_additional = pd.read_excel('../../dataset/df_cls.xlsx')[['nama', 'full_depan', 'tipe']]\n",
    "df_additional['path'] = ROOT + '/' + df_additional['full_depan']\n",
    "df_additional.sample(5)"
   ]
  },
  {
   "cell_type": "code",
   "execution_count": 17,
   "metadata": {},
   "outputs": [
    {
     "data": {
      "text/html": [
       "<div>\n",
       "<style scoped>\n",
       "    .dataframe tbody tr th:only-of-type {\n",
       "        vertical-align: middle;\n",
       "    }\n",
       "\n",
       "    .dataframe tbody tr th {\n",
       "        vertical-align: top;\n",
       "    }\n",
       "\n",
       "    .dataframe thead th {\n",
       "        text-align: right;\n",
       "    }\n",
       "</style>\n",
       "<table border=\"1\" class=\"dataframe\">\n",
       "  <thead>\n",
       "    <tr style=\"text-align: right;\">\n",
       "      <th></th>\n",
       "      <th>Feature_1</th>\n",
       "      <th>Feature_2</th>\n",
       "      <th>Feature_3</th>\n",
       "      <th>Feature_4</th>\n",
       "      <th>Feature_5</th>\n",
       "      <th>Feature_6</th>\n",
       "      <th>Feature_7</th>\n",
       "      <th>Feature_8</th>\n",
       "      <th>Feature_9</th>\n",
       "      <th>Feature_10</th>\n",
       "      <th>...</th>\n",
       "      <th>Feature_128</th>\n",
       "      <th>Feature_129</th>\n",
       "      <th>Feature_130</th>\n",
       "      <th>Feature_131</th>\n",
       "      <th>Feature_132</th>\n",
       "      <th>Feature_133</th>\n",
       "      <th>Feature_134</th>\n",
       "      <th>Feature_135</th>\n",
       "      <th>Feature_136</th>\n",
       "      <th>full_depan</th>\n",
       "    </tr>\n",
       "  </thead>\n",
       "  <tbody>\n",
       "    <tr>\n",
       "      <th>23</th>\n",
       "      <td>13</td>\n",
       "      <td>160</td>\n",
       "      <td>15</td>\n",
       "      <td>194</td>\n",
       "      <td>20</td>\n",
       "      <td>228</td>\n",
       "      <td>26</td>\n",
       "      <td>261</td>\n",
       "      <td>37</td>\n",
       "      <td>293</td>\n",
       "      <td>...</td>\n",
       "      <td>290</td>\n",
       "      <td>192</td>\n",
       "      <td>289</td>\n",
       "      <td>162</td>\n",
       "      <td>291</td>\n",
       "      <td>149</td>\n",
       "      <td>293</td>\n",
       "      <td>138</td>\n",
       "      <td>292</td>\n",
       "      <td>tampak_depan/4.jpg</td>\n",
       "    </tr>\n",
       "    <tr>\n",
       "      <th>3</th>\n",
       "      <td>38</td>\n",
       "      <td>167</td>\n",
       "      <td>40</td>\n",
       "      <td>199</td>\n",
       "      <td>44</td>\n",
       "      <td>230</td>\n",
       "      <td>49</td>\n",
       "      <td>263</td>\n",
       "      <td>58</td>\n",
       "      <td>293</td>\n",
       "      <td>...</td>\n",
       "      <td>296</td>\n",
       "      <td>183</td>\n",
       "      <td>295</td>\n",
       "      <td>158</td>\n",
       "      <td>299</td>\n",
       "      <td>147</td>\n",
       "      <td>301</td>\n",
       "      <td>136</td>\n",
       "      <td>299</td>\n",
       "      <td>tampak_depan/galuh.jpg</td>\n",
       "    </tr>\n",
       "    <tr>\n",
       "      <th>44</th>\n",
       "      <td>28</td>\n",
       "      <td>155</td>\n",
       "      <td>31</td>\n",
       "      <td>187</td>\n",
       "      <td>37</td>\n",
       "      <td>218</td>\n",
       "      <td>43</td>\n",
       "      <td>248</td>\n",
       "      <td>53</td>\n",
       "      <td>276</td>\n",
       "      <td>...</td>\n",
       "      <td>276</td>\n",
       "      <td>184</td>\n",
       "      <td>277</td>\n",
       "      <td>162</td>\n",
       "      <td>276</td>\n",
       "      <td>151</td>\n",
       "      <td>278</td>\n",
       "      <td>140</td>\n",
       "      <td>276</td>\n",
       "      <td>tampak_depan/26.jpg</td>\n",
       "    </tr>\n",
       "    <tr>\n",
       "      <th>45</th>\n",
       "      <td>39</td>\n",
       "      <td>160</td>\n",
       "      <td>41</td>\n",
       "      <td>189</td>\n",
       "      <td>44</td>\n",
       "      <td>217</td>\n",
       "      <td>49</td>\n",
       "      <td>245</td>\n",
       "      <td>59</td>\n",
       "      <td>272</td>\n",
       "      <td>...</td>\n",
       "      <td>267</td>\n",
       "      <td>179</td>\n",
       "      <td>266</td>\n",
       "      <td>160</td>\n",
       "      <td>268</td>\n",
       "      <td>151</td>\n",
       "      <td>269</td>\n",
       "      <td>143</td>\n",
       "      <td>269</td>\n",
       "      <td>tampak_depan/27.jpg</td>\n",
       "    </tr>\n",
       "    <tr>\n",
       "      <th>6</th>\n",
       "      <td>41</td>\n",
       "      <td>149</td>\n",
       "      <td>44</td>\n",
       "      <td>180</td>\n",
       "      <td>49</td>\n",
       "      <td>212</td>\n",
       "      <td>56</td>\n",
       "      <td>242</td>\n",
       "      <td>67</td>\n",
       "      <td>269</td>\n",
       "      <td>...</td>\n",
       "      <td>268</td>\n",
       "      <td>190</td>\n",
       "      <td>270</td>\n",
       "      <td>165</td>\n",
       "      <td>270</td>\n",
       "      <td>152</td>\n",
       "      <td>272</td>\n",
       "      <td>139</td>\n",
       "      <td>270</td>\n",
       "      <td>tampak_depan/hiqmatul.jpg</td>\n",
       "    </tr>\n",
       "  </tbody>\n",
       "</table>\n",
       "<p>5 rows × 137 columns</p>\n",
       "</div>"
      ],
      "text/plain": [
       "    Feature_1  Feature_2  Feature_3  Feature_4  Feature_5  Feature_6  \\\n",
       "23         13        160         15        194         20        228   \n",
       "3          38        167         40        199         44        230   \n",
       "44         28        155         31        187         37        218   \n",
       "45         39        160         41        189         44        217   \n",
       "6          41        149         44        180         49        212   \n",
       "\n",
       "    Feature_7  Feature_8  Feature_9  Feature_10  ...  Feature_128  \\\n",
       "23         26        261         37         293  ...          290   \n",
       "3          49        263         58         293  ...          296   \n",
       "44         43        248         53         276  ...          276   \n",
       "45         49        245         59         272  ...          267   \n",
       "6          56        242         67         269  ...          268   \n",
       "\n",
       "    Feature_129  Feature_130  Feature_131  Feature_132  Feature_133  \\\n",
       "23          192          289          162          291          149   \n",
       "3           183          295          158          299          147   \n",
       "44          184          277          162          276          151   \n",
       "45          179          266          160          268          151   \n",
       "6           190          270          165          270          152   \n",
       "\n",
       "    Feature_134  Feature_135  Feature_136                 full_depan  \n",
       "23          293          138          292         tampak_depan/4.jpg  \n",
       "3           301          136          299     tampak_depan/galuh.jpg  \n",
       "44          278          140          276        tampak_depan/26.jpg  \n",
       "45          269          143          269        tampak_depan/27.jpg  \n",
       "6           272          139          270  tampak_depan/hiqmatul.jpg  \n",
       "\n",
       "[5 rows x 137 columns]"
      ]
     },
     "execution_count": 17,
     "metadata": {},
     "output_type": "execute_result"
    }
   ],
   "source": [
    "flat_arrays = []\n",
    "for idx in range(df_additional.shape[0]):\n",
    "    image, gray = crop_face(df_additional['path'][idx])\n",
    "    faces = detector(image)\n",
    "    landmarks = predictor(gray, faces[0])\n",
    "    landmarks_array = np.array([(landmark.x, landmark.y) for landmark in landmarks.parts()])\n",
    "\n",
    "    flat_array = landmarks_array.flatten()\n",
    "    flat_arrays.append(flat_array)\n",
    "\n",
    "df_landmarks = pd.DataFrame(flat_arrays, columns=[f\"Feature_{i + 1}\" for i in range(len(flat_array))])\n",
    "df_landmarks['full_depan'] = df_additional['full_depan']\n",
    "df_landmarks.sample(5)"
   ]
  },
  {
   "cell_type": "markdown",
   "metadata": {},
   "source": [
    "# Helper Function(s)"
   ]
  },
  {
   "cell_type": "code",
   "execution_count": 18,
   "metadata": {},
   "outputs": [],
   "source": [
    "class FKGTask:\n",
    "    def __init__(self, face_side, subtask, data):\n",
    "        self.face_side = face_side\n",
    "        self.subtask = subtask\n",
    "        self.dataframe, self.encoding_dict = self._get_dataframe(data, self.subtask)\n",
    "        self.X, self.y = self._get_x_and_y()\n",
    "\n",
    "    def _get_dataframe(self, data, subtask):\n",
    "        encoder = OrdinalEncoder()\n",
    "        unique_values = data[subtask][subtask].unique().reshape(-1, 1)\n",
    "        encoder.fit(unique_values)\n",
    "\n",
    "        before_val = data[subtask][subtask]\n",
    "        data[subtask][subtask] = encoder.transform(data[subtask][subtask].values.reshape(-1, 1))\n",
    "        encoding_dict = {original_class: encoded_value for original_class, encoded_value in zip(data[subtask][subtask], before_val)}\n",
    "        encoding_dict = {v: k for k, v in encoding_dict.items()}\n",
    "        \n",
    "        return data[subtask], encoding_dict\n",
    "\n",
    "    def _get_x_and_y(self):\n",
    "        X = self.dataframe[self.face_side]\n",
    "        y = self.dataframe[self.subtask]\n",
    "\n",
    "        return X, y\n",
    "\n",
    "    def get_train_test_split(self):\n",
    "        X_train, X_val, y_train, y_val = train_test_split(\n",
    "            self.X, self.y\n",
    "            , stratify=self.y\n",
    "            , test_size=0.2\n",
    "            , random_state=42\n",
    "        )\n",
    "\n",
    "        return pd.concat([X_train, y_train], axis=1), pd.concat([X_val, y_val], axis=1)"
   ]
  },
  {
   "cell_type": "markdown",
   "metadata": {},
   "source": [
    "# Modeling"
   ]
  },
  {
   "cell_type": "code",
   "execution_count": 19,
   "metadata": {},
   "outputs": [],
   "source": [
    "model_ckp = {\n",
    "    'effnet': '../../pretrained_ckp/efficientnet_b0_rwightman-3dd342df.pth'\n",
    "    , 'shufflenet': '../../pretrained_ckp/shufflenetv2_x1-5666bf0f80.pth'\n",
    "    , 'resnet':'../../pretrained_ckp/shufflenetv2_x1-5666bf0f80.pth'\n",
    "    , 'mobilenet': '../../pretrained_ckp/mobilenet_v2-b0353104.pth'\n",
    "}"
   ]
  },
  {
   "cell_type": "code",
   "execution_count": 20,
   "metadata": {},
   "outputs": [],
   "source": [
    "def load_model_checkpoint(model, ckp_path):\n",
    "    temp_model = model\n",
    "    checkpoint = torch.load(ckp_path)\n",
    "    temp_model.load_state_dict(checkpoint)\n",
    "\n",
    "    return temp_model\n",
    "\n",
    "def get_models():\n",
    "    efficientnet_b0 = load_model_checkpoint(models.efficientnet_b0(pretrained=False), model_ckp['effnet'])  \n",
    "    shufflenet = load_model_checkpoint(models.shufflenet_v2_x1_0(pretrained=False), model_ckp['shufflenet'])\n",
    "    mobilenet_v2 = load_model_checkpoint(models.mobilenet_v2(pretrained=False), model_ckp['mobilenet'])\n",
    "\n",
    "    model_dict = {}\n",
    "    model_dict['effnet'] = efficientnet_b0\n",
    "    model_dict['shufflenet'] = shufflenet\n",
    "    model_dict['mobilenet'] = mobilenet_v2\n",
    "\n",
    "    return model_dict"
   ]
  },
  {
   "cell_type": "code",
   "execution_count": 21,
   "metadata": {},
   "outputs": [
    {
     "name": "stderr",
     "output_type": "stream",
     "text": [
      "/Library/Frameworks/Python.framework/Versions/3.9/lib/python3.9/site-packages/torchvision/models/_utils.py:208: UserWarning: The parameter 'pretrained' is deprecated since 0.13 and may be removed in the future, please use 'weights' instead.\n",
      "  warnings.warn(\n",
      "/Library/Frameworks/Python.framework/Versions/3.9/lib/python3.9/site-packages/torchvision/models/_utils.py:223: UserWarning: Arguments other than a weight enum or `None` for 'weights' are deprecated since 0.13 and may be removed in the future. The current behavior is equivalent to passing `weights=None`.\n",
      "  warnings.warn(msg)\n"
     ]
    }
   ],
   "source": [
    "model_dict = get_models()"
   ]
  },
  {
   "cell_type": "markdown",
   "metadata": {},
   "source": [
    "## Lightning Modules"
   ]
  },
  {
   "cell_type": "code",
   "execution_count": 29,
   "metadata": {},
   "outputs": [],
   "source": [
    "deep_model = nn.Sequential(\n",
    "    nn.Linear(136, 256),\n",
    "    nn.ReLU(),\n",
    "    nn.Linear(256, 512),\n",
    "    nn.ReLU(),\n",
    "    nn.LayerNorm(512),\n",
    "    nn.Dropout(0.5),\n",
    "    nn.Linear(512, 256),\n",
    "    nn.ReLU(),\n",
    "    nn.LayerNorm(256),\n",
    "    nn.Dropout(0.5),\n",
    "    nn.Linear(256, 128),\n",
    "    nn.ReLU(),\n",
    "    nn.LayerNorm(128),\n",
    "    nn.Dropout(0.5),\n",
    "    nn.Linear(128, 1024)\n",
    ")\n",
    "\n",
    "wide_model = nn.Sequential(\n",
    "    nn.Linear(136, 1024),\n",
    "    nn.ReLU(),\n",
    "    nn.LayerNorm(1024),\n",
    "    nn.Dropout(0.5),\n",
    "    nn.Linear(1024, 512),\n",
    "    nn.ReLU(),\n",
    "    nn.LayerNorm(512),\n",
    "    nn.Dropout(0.5),\n",
    "    nn.Linear(512, 1024)\n",
    ")\n",
    "\n",
    "skip_block_1 = nn.Sequential(\n",
    "    nn.Linear(136, 512),\n",
    "    nn.ReLU(),\n",
    "    nn.LayerNorm(512),\n",
    "    nn.Dropout(0.5),\n",
    "    nn.Linear(512, 256),\n",
    "    nn.ReLU(),\n",
    "    nn.LayerNorm(256),\n",
    "    nn.Dropout(0.5)\n",
    ")\n",
    "skip_block_2 = nn.Sequential(\n",
    "    nn.Linear(256, 1024)\n",
    ")"
   ]
  },
  {
   "cell_type": "code",
   "execution_count": 32,
   "metadata": {},
   "outputs": [],
   "source": [
    "class FKGLightningModuleV3(pl.LightningModule):\n",
    "    def __init__(self, num_classes, model_name, model_dict, num_model, num_model_add=None):\n",
    "        super(FKGLightningModuleV3, self).__init__()\n",
    "\n",
    "        self.num_classes = num_classes\n",
    "        self.model_name = model_name\n",
    "        self.model_dict = model_dict\n",
    "        self.num_numerical_features = 136\n",
    "        self.num_model = num_model\n",
    "        self.num_model_add = num_model_add\n",
    "        self.criterion = nn.CrossEntropyLoss()\n",
    "        self.model = self._load_model()\n",
    "\n",
    "    def _load_model(self):\n",
    "        temp_model = self.model_dict[self.model_name]\n",
    "        self.fc_numerical = self.num_model\n",
    "        if self.num_model_add is not None:\n",
    "            self.skip = self.num_model_add\n",
    "\n",
    "        if self.model_name in ['effnet', 'mobilenet']:\n",
    "            num_feat = temp_model.classifier[-1].in_features\n",
    "        if self.model_name in ['shufflenet', 'resnet']:\n",
    "            num_feat = temp_model.fc.in_features\n",
    "\n",
    "        model = nn.Sequential(*list(temp_model.children())[:-1])\n",
    "        model.add_module('global_avg_pool', nn.AdaptiveAvgPool2d(1))\n",
    "        model.add_module('flatten', nn.Flatten())\n",
    "        \n",
    "        self.fc_combined = nn.Linear(num_feat + 1024, self.num_classes)\n",
    "        \n",
    "        return model\n",
    "\n",
    "    def forward(self, x_img, x_num):\n",
    "        residual = x_num\n",
    "        \n",
    "        image_features = self.model(x_img)\n",
    "        numerical_features = self.fc_numerical(x_num)\n",
    "        if self.num_model_add is not None:\n",
    "            numerical_features = numerical_features + residual\n",
    "            numerical_features = self.skip(numerical_features)\n",
    "\n",
    "        combined_features = torch.cat((image_features, numerical_features), dim=1)\n",
    "        return self.fc_combined(combined_features)\n",
    "\n",
    "    def configure_optimizers(self):\n",
    "        return torch.optim.Adam(self.parameters(), lr=1e-4) # 0.0001\n",
    "\n",
    "    def training_step(self, batch, batch_idx):\n",
    "        inputs_img, inputs_num, labels = batch\n",
    "        outputs = self(inputs_img, inputs_num)\n",
    "        \n",
    "        loss = self.criterion(outputs, labels)\n",
    "        self.log('train_loss', loss, on_epoch=True)    \n",
    "        return loss\n",
    "\n",
    "    def validation_step(self, batch, batch_idx):\n",
    "        inputs_img, inputs_num, labels = batch\n",
    "        outputs = self(inputs_img, inputs_num)\n",
    "        \n",
    "        val_loss = self.criterion(outputs, labels)\n",
    "        self.log('val_loss', val_loss, on_epoch=True)\n",
    "        return val_loss"
   ]
  },
  {
   "cell_type": "markdown",
   "metadata": {},
   "source": [
    "## Classification Part"
   ]
  },
  {
   "cell_type": "code",
   "execution_count": 33,
   "metadata": {},
   "outputs": [
    {
     "name": "stderr",
     "output_type": "stream",
     "text": [
      "/var/folders/0z/40d0w36j79z901rcfq942hhh0000gn/T/ipykernel_1424/820146279.py:14: SettingWithCopyWarning: \n",
      "A value is trying to be set on a copy of a slice from a DataFrame.\n",
      "Try using .loc[row_indexer,col_indexer] = value instead\n",
      "\n",
      "See the caveats in the documentation: https://pandas.pydata.org/pandas-docs/stable/user_guide/indexing.html#returning-a-view-versus-a-copy\n",
      "  data[subtask][subtask] = encoder.transform(data[subtask][subtask].values.reshape(-1, 1))\n"
     ]
    }
   ],
   "source": [
    "task = FKGTask('full_depan', 'tipe', df_tasks_dict.copy())\n",
    "train, val = task.get_train_test_split()\n",
    "\n",
    "train = pd.merge(train, df_landmarks, on='full_depan', how='left')\n",
    "val = pd.merge(val, df_landmarks, on='full_depan', how='left')\n",
    "\n",
    "train_dataset = CustomDataset(dataframe=train, root=ROOT, transform=train_transform)\n",
    "train_loader = DataLoader(train_dataset, batch_size=2, shuffle=True, num_workers=0)\n",
    "\n",
    "val_dataset = CustomDataset(dataframe=val, root=ROOT, transform=val_transform)\n",
    "val_loader = DataLoader(val_dataset, batch_size=1, shuffle=True, num_workers=0)"
   ]
  },
  {
   "cell_type": "code",
   "execution_count": 34,
   "metadata": {},
   "outputs": [
    {
     "name": "stdout",
     "output_type": "stream",
     "text": [
      "Batch 1:\n",
      "Image Shape: torch.Size([2, 3, 300, 400])\n",
      "Numerical Shape: torch.Size([2, 136])\n",
      "Label: tensor([0, 0])\n",
      "\n",
      "Batch 2:\n",
      "Image Shape: torch.Size([2, 3, 300, 400])\n",
      "Numerical Shape: torch.Size([2, 136])\n",
      "Label: tensor([1, 0])\n",
      "\n",
      "Batch 3:\n",
      "Image Shape: torch.Size([2, 3, 300, 400])\n",
      "Numerical Shape: torch.Size([2, 136])\n",
      "Label: tensor([0, 1])\n",
      "\n"
     ]
    }
   ],
   "source": [
    "data_iter = iter(train_loader)\n",
    "\n",
    "for i in range(3):\n",
    "    batch = next(data_iter)\n",
    "    image, numerical_features, label = batch\n",
    "    print(f\"Batch {i + 1}:\")\n",
    "    print(\"Image Shape:\", image.shape)\n",
    "    print(\"Numerical Shape:\", numerical_features.shape)\n",
    "    print(\"Label:\", label)\n",
    "    print()"
   ]
  },
  {
   "cell_type": "markdown",
   "metadata": {},
   "source": [
    "### Deep Model"
   ]
  },
  {
   "cell_type": "code",
   "execution_count": 35,
   "metadata": {},
   "outputs": [
    {
     "name": "stderr",
     "output_type": "stream",
     "text": [
      "GPU available: True (mps), used: True\n",
      "TPU available: False, using: 0 TPU cores\n",
      "IPU available: False, using: 0 IPUs\n",
      "HPU available: False, using: 0 HPUs\n",
      "/Library/Frameworks/Python.framework/Versions/3.9/lib/python3.9/site-packages/pytorch_lightning/trainer/connectors/logger_connector/logger_connector.py:67: Starting from v1.9.0, `tensorboardX` has been removed as a dependency of the `pytorch_lightning` package, due to potential conflicts with other packages in the ML ecosystem. For this reason, `logger=True` will use `CSVLogger` as the default logger, unless the `tensorboard` or `tensorboardX` packages are found. Please `pip install lightning[extra]` or one of them to enable TensorBoard support by default\n",
      "/Library/Frameworks/Python.framework/Versions/3.9/lib/python3.9/site-packages/pytorch_lightning/trainer/configuration_validator.py:74: You defined a `validation_step` but have no `val_dataloader`. Skipping val loop.\n",
      "\n",
      "  | Name        | Type             | Params\n",
      "-------------------------------------------------\n",
      "0 | num_model   | Sequential       | 464 K \n",
      "1 | criterion   | CrossEntropyLoss | 0     \n",
      "2 | fc_combined | Linear           | 6.9 K \n",
      "3 | model       | Sequential       | 4.0 M \n",
      "-------------------------------------------------\n",
      "4.5 M     Trainable params\n",
      "0         Non-trainable params\n",
      "4.5 M     Total params\n",
      "17.917    Total estimated model params size (MB)\n",
      "/Library/Frameworks/Python.framework/Versions/3.9/lib/python3.9/site-packages/pytorch_lightning/trainer/connectors/data_connector.py:441: The 'train_dataloader' does not have many workers which may be a bottleneck. Consider increasing the value of the `num_workers` argument` to `num_workers=9` in the `DataLoader` to improve performance.\n",
      "/Library/Frameworks/Python.framework/Versions/3.9/lib/python3.9/site-packages/pytorch_lightning/loops/fit_loop.py:293: The number of training batches (20) is smaller than the logging interval Trainer(log_every_n_steps=50). Set a lower value for log_every_n_steps if you want to see logs for the training epoch.\n"
     ]
    },
    {
     "data": {
      "application/vnd.jupyter.widget-view+json": {
       "model_id": "ba22193c23934d768883ab459a87ab7a",
       "version_major": 2,
       "version_minor": 0
      },
      "text/plain": [
       "Training: |                                            | 0/? [00:00<?, ?it/s]"
      ]
     },
     "metadata": {},
     "output_type": "display_data"
    },
    {
     "name": "stderr",
     "output_type": "stream",
     "text": [
      "`Trainer.fit` stopped: `max_epochs=16` reached.\n",
      "GPU available: True (mps), used: True\n",
      "TPU available: False, using: 0 TPU cores\n",
      "IPU available: False, using: 0 IPUs\n",
      "HPU available: False, using: 0 HPUs\n",
      "\n",
      "  | Name        | Type             | Params\n",
      "-------------------------------------------------\n",
      "0 | num_model   | Sequential       | 464 K \n",
      "1 | criterion   | CrossEntropyLoss | 0     \n",
      "2 | fc_combined | Linear           | 6.9 K \n",
      "3 | model       | Sequential       | 2.2 M \n",
      "-------------------------------------------------\n",
      "2.7 M     Trainable params\n",
      "0         Non-trainable params\n",
      "2.7 M     Total params\n",
      "10.782    Total estimated model params size (MB)\n"
     ]
    },
    {
     "data": {
      "application/vnd.jupyter.widget-view+json": {
       "model_id": "0592de57bc5c4dc8af5c7779fb08d3b7",
       "version_major": 2,
       "version_minor": 0
      },
      "text/plain": [
       "Training: |                                            | 0/? [00:00<?, ?it/s]"
      ]
     },
     "metadata": {},
     "output_type": "display_data"
    },
    {
     "name": "stderr",
     "output_type": "stream",
     "text": [
      "`Trainer.fit` stopped: `max_epochs=16` reached.\n",
      "GPU available: True (mps), used: True\n",
      "TPU available: False, using: 0 TPU cores\n",
      "IPU available: False, using: 0 IPUs\n",
      "HPU available: False, using: 0 HPUs\n",
      "\n",
      "  | Name        | Type             | Params\n",
      "-------------------------------------------------\n",
      "0 | num_model   | Sequential       | 464 K \n",
      "1 | criterion   | CrossEntropyLoss | 0     \n",
      "2 | fc_combined | Linear           | 6.1 K \n",
      "3 | model       | Sequential       | 1.3 M \n",
      "-------------------------------------------------\n",
      "1.7 M     Trainable params\n",
      "0         Non-trainable params\n",
      "1.7 M     Total params\n",
      "6.898     Total estimated model params size (MB)\n"
     ]
    },
    {
     "data": {
      "application/vnd.jupyter.widget-view+json": {
       "model_id": "1723440ef0dd471ea91d4e32da8ac7bc",
       "version_major": 2,
       "version_minor": 0
      },
      "text/plain": [
       "Training: |                                            | 0/? [00:00<?, ?it/s]"
      ]
     },
     "metadata": {},
     "output_type": "display_data"
    },
    {
     "name": "stderr",
     "output_type": "stream",
     "text": [
      "`Trainer.fit` stopped: `max_epochs=16` reached.\n"
     ]
    }
   ],
   "source": [
    "models = []\n",
    "trainers = []\n",
    "\n",
    "cnt = 0\n",
    "for mod in ['effnet', 'mobilenet', 'shufflenet']:\n",
    "    models.append(FKGLightningModuleV3(3, mod, model_dict, deep_model))\n",
    "    \n",
    "    trainers.append(pl.Trainer(max_epochs=16))\n",
    "    trainers[cnt].fit(model=models[cnt], train_dataloaders=train_loader)\n",
    "\n",
    "    cnt += 1"
   ]
  },
  {
   "cell_type": "code",
   "execution_count": 36,
   "metadata": {},
   "outputs": [
    {
     "name": "stdout",
     "output_type": "stream",
     "text": [
      "=====\n",
      "Model EfficientNet\n",
      "tensor([[0.0611, 0.0912, 0.8477]], device='mps:0')\n",
      "Predicted tensor([2], device='mps:0'), Labels tensor([2], device='mps:0')\n",
      "tensor([[0.2661, 0.7284, 0.0054]], device='mps:0')\n",
      "Predicted tensor([1], device='mps:0'), Labels tensor([0], device='mps:0')\n",
      "tensor([[9.9793e-01, 1.2280e-03, 8.4123e-04]], device='mps:0')\n",
      "Predicted tensor([0], device='mps:0'), Labels tensor([0], device='mps:0')\n",
      "tensor([[0.0123, 0.0628, 0.9250]], device='mps:0')\n",
      "Predicted tensor([2], device='mps:0'), Labels tensor([1], device='mps:0')\n",
      "tensor([[0.9189, 0.0547, 0.0264]], device='mps:0')\n",
      "Predicted tensor([0], device='mps:0'), Labels tensor([0], device='mps:0')\n",
      "tensor([[0.1518, 0.0123, 0.8358]], device='mps:0')\n",
      "Predicted tensor([2], device='mps:0'), Labels tensor([1], device='mps:0')\n",
      "tensor([[0.5222, 0.4298, 0.0480]], device='mps:0')\n",
      "Predicted tensor([0], device='mps:0'), Labels tensor([2], device='mps:0')\n",
      "tensor([[0.6642, 0.1235, 0.2123]], device='mps:0')\n",
      "Predicted tensor([0], device='mps:0'), Labels tensor([2], device='mps:0')\n",
      "tensor([[0.0828, 0.3984, 0.5188]], device='mps:0')\n",
      "Predicted tensor([2], device='mps:0'), Labels tensor([1], device='mps:0')\n",
      "tensor([[0.1823, 0.7814, 0.0363]], device='mps:0')\n",
      "Predicted tensor([1], device='mps:0'), Labels tensor([1], device='mps:0')\n",
      "Classification Report:\n",
      "              precision    recall  f1-score   support\n",
      "\n",
      "           0       0.50      0.67      0.57         3\n",
      "           1       0.50      0.25      0.33         4\n",
      "           2       0.25      0.33      0.29         3\n",
      "\n",
      "    accuracy                           0.40        10\n",
      "   macro avg       0.42      0.42      0.40        10\n",
      "weighted avg       0.42      0.40      0.39        10\n",
      "\n",
      "=====\n",
      "Model MobileNet\n",
      "tensor([[0.0076, 0.9793, 0.0131]], device='mps:0')\n",
      "Predicted tensor([1], device='mps:0'), Labels tensor([0], device='mps:0')\n",
      "tensor([[0.0280, 0.8159, 0.1561]], device='mps:0')\n",
      "Predicted tensor([1], device='mps:0'), Labels tensor([2], device='mps:0')\n",
      "tensor([[0.0313, 0.9489, 0.0198]], device='mps:0')\n",
      "Predicted tensor([1], device='mps:0'), Labels tensor([2], device='mps:0')\n",
      "tensor([[0.1698, 0.5906, 0.2396]], device='mps:0')\n",
      "Predicted tensor([1], device='mps:0'), Labels tensor([0], device='mps:0')\n",
      "tensor([[0.2815, 0.0577, 0.6608]], device='mps:0')\n",
      "Predicted tensor([2], device='mps:0'), Labels tensor([2], device='mps:0')\n",
      "tensor([[0.0149, 0.9006, 0.0845]], device='mps:0')\n",
      "Predicted tensor([1], device='mps:0'), Labels tensor([1], device='mps:0')\n",
      "tensor([[0.2242, 0.3603, 0.4155]], device='mps:0')\n",
      "Predicted tensor([2], device='mps:0'), Labels tensor([0], device='mps:0')\n",
      "tensor([[0.0194, 0.9298, 0.0508]], device='mps:0')\n",
      "Predicted tensor([1], device='mps:0'), Labels tensor([1], device='mps:0')\n",
      "tensor([[0.0040, 0.9925, 0.0035]], device='mps:0')\n",
      "Predicted tensor([1], device='mps:0'), Labels tensor([1], device='mps:0')\n",
      "tensor([[0.0896, 0.2565, 0.6539]], device='mps:0')\n",
      "Predicted tensor([2], device='mps:0'), Labels tensor([1], device='mps:0')\n",
      "Classification Report:\n",
      "              precision    recall  f1-score   support\n",
      "\n",
      "           0       0.00      0.00      0.00         3\n",
      "           1       0.43      0.75      0.55         4\n",
      "           2       0.33      0.33      0.33         3\n",
      "\n",
      "    accuracy                           0.40        10\n",
      "   macro avg       0.25      0.36      0.29        10\n",
      "weighted avg       0.27      0.40      0.32        10\n",
      "\n",
      "=====\n",
      "Model ShuffleNet\n",
      "tensor([[0.1370, 0.4901, 0.3729]], device='mps:0')\n",
      "Predicted tensor([1], device='mps:0'), Labels tensor([0], device='mps:0')\n",
      "tensor([[0.1436, 0.5460, 0.3104]], device='mps:0')\n",
      "Predicted tensor([1], device='mps:0'), Labels tensor([1], device='mps:0')\n",
      "tensor([[0.0421, 0.8358, 0.1221]], device='mps:0')\n",
      "Predicted tensor([1], device='mps:0'), Labels tensor([0], device='mps:0')\n",
      "tensor([[0.0855, 0.7159, 0.1987]], device='mps:0')\n",
      "Predicted tensor([1], device='mps:0'), Labels tensor([0], device='mps:0')\n",
      "tensor([[0.0425, 0.8567, 0.1008]], device='mps:0')\n",
      "Predicted tensor([1], device='mps:0'), Labels tensor([1], device='mps:0')\n",
      "tensor([[0.1020, 0.7634, 0.1346]], device='mps:0')\n",
      "Predicted tensor([1], device='mps:0'), Labels tensor([1], device='mps:0')\n",
      "tensor([[0.0214, 0.7656, 0.2130]], device='mps:0')\n",
      "Predicted tensor([1], device='mps:0'), Labels tensor([2], device='mps:0')\n",
      "tensor([[0.1045, 0.5897, 0.3058]], device='mps:0')\n",
      "Predicted tensor([1], device='mps:0'), Labels tensor([2], device='mps:0')\n",
      "tensor([[0.2504, 0.5027, 0.2469]], device='mps:0')\n",
      "Predicted tensor([1], device='mps:0'), Labels tensor([2], device='mps:0')\n",
      "tensor([[0.0078, 0.8387, 0.1535]], device='mps:0')\n",
      "Predicted tensor([1], device='mps:0'), Labels tensor([1], device='mps:0')\n",
      "Classification Report:\n",
      "              precision    recall  f1-score   support\n",
      "\n",
      "           0       0.00      0.00      0.00         3\n",
      "           1       0.40      1.00      0.57         4\n",
      "           2       0.00      0.00      0.00         3\n",
      "\n",
      "    accuracy                           0.40        10\n",
      "   macro avg       0.13      0.33      0.19        10\n",
      "weighted avg       0.16      0.40      0.23        10\n",
      "\n"
     ]
    }
   ],
   "source": [
    "from sklearn.metrics import classification_report\n",
    "\n",
    "cntt = 1\n",
    "for mod in models:\n",
    "    predicted_labels = []\n",
    "    true_labels = []\n",
    "\n",
    "    mod.eval()\n",
    "    mod.to(device)\n",
    "\n",
    "    correct = 0\n",
    "    total = 0\n",
    "\n",
    "    print('=====')\n",
    "    print(f'Model {MOD_DICT[cntt]}')\n",
    "    with torch.no_grad():\n",
    "        for batch in val_loader:\n",
    "            inputs_img, numerical_features, labels = batch\n",
    "            inputs_img, numerical_features, labels = inputs_img.to(device), numerical_features.to(device), labels.to(device)\n",
    "            outputs = mod(inputs_img, numerical_features)\n",
    "            \n",
    "            print(F.softmax(outputs, dim=1))\n",
    "            _, predicted = torch.max(outputs, 1)\n",
    "            total += labels.size(0)\n",
    "            correct += (predicted == labels).sum().item()\n",
    "            print(f'Predicted {predicted}, Labels {labels}')\n",
    "\n",
    "            # Append predicted and true labels to the lists\n",
    "            predicted_labels.extend(predicted.cpu().numpy())\n",
    "            true_labels.extend(labels.cpu().numpy())\n",
    "\n",
    "    cntt += 1\n",
    "\n",
    "    # Calculate and print the classification report\n",
    "    print(\"Classification Report:\")\n",
    "    print(classification_report(true_labels, predicted_labels, zero_division=0 ))"
   ]
  },
  {
   "cell_type": "markdown",
   "metadata": {},
   "source": [
    "### Wide Model"
   ]
  },
  {
   "cell_type": "code",
   "execution_count": 37,
   "metadata": {},
   "outputs": [
    {
     "name": "stderr",
     "output_type": "stream",
     "text": [
      "GPU available: True (mps), used: True\n",
      "TPU available: False, using: 0 TPU cores\n",
      "IPU available: False, using: 0 IPUs\n",
      "HPU available: False, using: 0 HPUs\n",
      "/Library/Frameworks/Python.framework/Versions/3.9/lib/python3.9/site-packages/pytorch_lightning/trainer/configuration_validator.py:74: You defined a `validation_step` but have no `val_dataloader`. Skipping val loop.\n",
      "\n",
      "  | Name        | Type             | Params\n",
      "-------------------------------------------------\n",
      "0 | num_model   | Sequential       | 1.2 M \n",
      "1 | criterion   | CrossEntropyLoss | 0     \n",
      "2 | fc_combined | Linear           | 6.9 K \n",
      "3 | model       | Sequential       | 4.0 M \n",
      "-------------------------------------------------\n",
      "5.2 M     Trainable params\n",
      "0         Non-trainable params\n",
      "5.2 M     Total params\n",
      "20.832    Total estimated model params size (MB)\n",
      "/Library/Frameworks/Python.framework/Versions/3.9/lib/python3.9/site-packages/pytorch_lightning/trainer/connectors/data_connector.py:441: The 'train_dataloader' does not have many workers which may be a bottleneck. Consider increasing the value of the `num_workers` argument` to `num_workers=9` in the `DataLoader` to improve performance.\n",
      "/Library/Frameworks/Python.framework/Versions/3.9/lib/python3.9/site-packages/pytorch_lightning/loops/fit_loop.py:293: The number of training batches (20) is smaller than the logging interval Trainer(log_every_n_steps=50). Set a lower value for log_every_n_steps if you want to see logs for the training epoch.\n"
     ]
    },
    {
     "data": {
      "application/vnd.jupyter.widget-view+json": {
       "model_id": "62464444d6ee418abc7cbc678a395eb8",
       "version_major": 2,
       "version_minor": 0
      },
      "text/plain": [
       "Training: |                                            | 0/? [00:00<?, ?it/s]"
      ]
     },
     "metadata": {},
     "output_type": "display_data"
    },
    {
     "name": "stderr",
     "output_type": "stream",
     "text": [
      "`Trainer.fit` stopped: `max_epochs=16` reached.\n",
      "GPU available: True (mps), used: True\n",
      "TPU available: False, using: 0 TPU cores\n",
      "IPU available: False, using: 0 IPUs\n",
      "HPU available: False, using: 0 HPUs\n",
      "\n",
      "  | Name        | Type             | Params\n",
      "-------------------------------------------------\n",
      "0 | num_model   | Sequential       | 1.2 M \n",
      "1 | criterion   | CrossEntropyLoss | 0     \n",
      "2 | fc_combined | Linear           | 6.9 K \n",
      "3 | model       | Sequential       | 2.2 M \n",
      "-------------------------------------------------\n",
      "3.4 M     Trainable params\n",
      "0         Non-trainable params\n",
      "3.4 M     Total params\n",
      "13.697    Total estimated model params size (MB)\n"
     ]
    },
    {
     "data": {
      "application/vnd.jupyter.widget-view+json": {
       "model_id": "ce5804e899354449b66639677117ddbc",
       "version_major": 2,
       "version_minor": 0
      },
      "text/plain": [
       "Training: |                                            | 0/? [00:00<?, ?it/s]"
      ]
     },
     "metadata": {},
     "output_type": "display_data"
    },
    {
     "name": "stderr",
     "output_type": "stream",
     "text": [
      "`Trainer.fit` stopped: `max_epochs=16` reached.\n",
      "GPU available: True (mps), used: True\n",
      "TPU available: False, using: 0 TPU cores\n",
      "IPU available: False, using: 0 IPUs\n",
      "HPU available: False, using: 0 HPUs\n",
      "\n",
      "  | Name        | Type             | Params\n",
      "-------------------------------------------------\n",
      "0 | num_model   | Sequential       | 1.2 M \n",
      "1 | criterion   | CrossEntropyLoss | 0     \n",
      "2 | fc_combined | Linear           | 6.1 K \n",
      "3 | model       | Sequential       | 1.3 M \n",
      "-------------------------------------------------\n",
      "2.5 M     Trainable params\n",
      "0         Non-trainable params\n",
      "2.5 M     Total params\n",
      "9.813     Total estimated model params size (MB)\n"
     ]
    },
    {
     "data": {
      "application/vnd.jupyter.widget-view+json": {
       "model_id": "53c5a11ef51146b1ae1ba5a2cd5faabb",
       "version_major": 2,
       "version_minor": 0
      },
      "text/plain": [
       "Training: |                                            | 0/? [00:00<?, ?it/s]"
      ]
     },
     "metadata": {},
     "output_type": "display_data"
    },
    {
     "name": "stderr",
     "output_type": "stream",
     "text": [
      "`Trainer.fit` stopped: `max_epochs=16` reached.\n"
     ]
    }
   ],
   "source": [
    "models = []\n",
    "trainers = []\n",
    "\n",
    "cnt = 0\n",
    "for mod in ['effnet', 'mobilenet', 'shufflenet']:\n",
    "    models.append(FKGLightningModuleV3(3, mod, model_dict, wide_model))\n",
    "    \n",
    "    trainers.append(pl.Trainer(max_epochs=16))\n",
    "    trainers[cnt].fit(model=models[cnt], train_dataloaders=train_loader)\n",
    "\n",
    "    cnt += 1"
   ]
  },
  {
   "cell_type": "code",
   "execution_count": 38,
   "metadata": {},
   "outputs": [
    {
     "name": "stdout",
     "output_type": "stream",
     "text": [
      "=====\n",
      "Model EfficientNet\n",
      "tensor([[0.0528, 0.6051, 0.3421]], device='mps:0')\n",
      "Predicted tensor([1], device='mps:0'), Labels tensor([2], device='mps:0')\n",
      "tensor([[0.0641, 0.3457, 0.5902]], device='mps:0')\n",
      "Predicted tensor([2], device='mps:0'), Labels tensor([1], device='mps:0')\n",
      "tensor([[0.0677, 0.2894, 0.6429]], device='mps:0')\n",
      "Predicted tensor([2], device='mps:0'), Labels tensor([2], device='mps:0')\n",
      "tensor([[0.1435, 0.8176, 0.0390]], device='mps:0')\n",
      "Predicted tensor([1], device='mps:0'), Labels tensor([0], device='mps:0')\n",
      "tensor([[0.0188, 0.9634, 0.0178]], device='mps:0')\n",
      "Predicted tensor([1], device='mps:0'), Labels tensor([1], device='mps:0')\n",
      "tensor([[0.2366, 0.3719, 0.3915]], device='mps:0')\n",
      "Predicted tensor([2], device='mps:0'), Labels tensor([0], device='mps:0')\n",
      "tensor([[0.0038, 0.0332, 0.9630]], device='mps:0')\n",
      "Predicted tensor([2], device='mps:0'), Labels tensor([1], device='mps:0')\n",
      "tensor([[0.0042, 0.0648, 0.9310]], device='mps:0')\n",
      "Predicted tensor([2], device='mps:0'), Labels tensor([1], device='mps:0')\n",
      "tensor([[8.5758e-04, 4.2552e-03, 9.9489e-01]], device='mps:0')\n",
      "Predicted tensor([2], device='mps:0'), Labels tensor([2], device='mps:0')\n",
      "tensor([[0.0091, 0.9735, 0.0174]], device='mps:0')\n",
      "Predicted tensor([1], device='mps:0'), Labels tensor([0], device='mps:0')\n",
      "Classification Report:\n",
      "              precision    recall  f1-score   support\n",
      "\n",
      "           0       0.00      0.00      0.00         3\n",
      "           1       0.25      0.25      0.25         4\n",
      "           2       0.33      0.67      0.44         3\n",
      "\n",
      "    accuracy                           0.30        10\n",
      "   macro avg       0.19      0.31      0.23        10\n",
      "weighted avg       0.20      0.30      0.23        10\n",
      "\n",
      "=====\n",
      "Model MobileNet\n",
      "tensor([[0.8746, 0.0232, 0.1022]], device='mps:0')\n",
      "Predicted tensor([0], device='mps:0'), Labels tensor([1], device='mps:0')\n",
      "tensor([[0.4921, 0.2037, 0.3042]], device='mps:0')\n",
      "Predicted tensor([0], device='mps:0'), Labels tensor([1], device='mps:0')\n",
      "tensor([[0.1415, 0.5396, 0.3189]], device='mps:0')\n",
      "Predicted tensor([1], device='mps:0'), Labels tensor([1], device='mps:0')\n",
      "tensor([[0.6210, 0.1404, 0.2385]], device='mps:0')\n",
      "Predicted tensor([0], device='mps:0'), Labels tensor([2], device='mps:0')\n",
      "tensor([[0.8456, 0.0476, 0.1068]], device='mps:0')\n",
      "Predicted tensor([0], device='mps:0'), Labels tensor([1], device='mps:0')\n",
      "tensor([[9.7275e-01, 6.5138e-05, 2.7185e-02]], device='mps:0')\n",
      "Predicted tensor([0], device='mps:0'), Labels tensor([2], device='mps:0')\n",
      "tensor([[0.7878, 0.0035, 0.2088]], device='mps:0')\n",
      "Predicted tensor([0], device='mps:0'), Labels tensor([2], device='mps:0')\n",
      "tensor([[0.8538, 0.0143, 0.1320]], device='mps:0')\n",
      "Predicted tensor([0], device='mps:0'), Labels tensor([0], device='mps:0')\n",
      "tensor([[0.3675, 0.5942, 0.0383]], device='mps:0')\n",
      "Predicted tensor([1], device='mps:0'), Labels tensor([0], device='mps:0')\n",
      "tensor([[0.7701, 0.0143, 0.2157]], device='mps:0')\n",
      "Predicted tensor([0], device='mps:0'), Labels tensor([0], device='mps:0')\n",
      "Classification Report:\n",
      "              precision    recall  f1-score   support\n",
      "\n",
      "           0       0.25      0.67      0.36         3\n",
      "           1       0.50      0.25      0.33         4\n",
      "           2       0.00      0.00      0.00         3\n",
      "\n",
      "    accuracy                           0.30        10\n",
      "   macro avg       0.25      0.31      0.23        10\n",
      "weighted avg       0.28      0.30      0.24        10\n",
      "\n",
      "=====\n",
      "Model ShuffleNet\n",
      "tensor([[1.0411e-03, 9.9857e-01, 3.8760e-04]], device='mps:0')\n",
      "Predicted tensor([1], device='mps:0'), Labels tensor([0], device='mps:0')\n",
      "tensor([[0.0126, 0.9737, 0.0138]], device='mps:0')\n",
      "Predicted tensor([1], device='mps:0'), Labels tensor([1], device='mps:0')\n",
      "tensor([[0.0198, 0.9719, 0.0083]], device='mps:0')\n",
      "Predicted tensor([1], device='mps:0'), Labels tensor([0], device='mps:0')\n",
      "tensor([[0.0097, 0.9777, 0.0126]], device='mps:0')\n",
      "Predicted tensor([1], device='mps:0'), Labels tensor([2], device='mps:0')\n",
      "tensor([[0.0666, 0.8411, 0.0923]], device='mps:0')\n",
      "Predicted tensor([1], device='mps:0'), Labels tensor([1], device='mps:0')\n",
      "tensor([[0.0046, 0.9932, 0.0022]], device='mps:0')\n",
      "Predicted tensor([1], device='mps:0'), Labels tensor([1], device='mps:0')\n",
      "tensor([[0.1027, 0.8468, 0.0505]], device='mps:0')\n",
      "Predicted tensor([1], device='mps:0'), Labels tensor([0], device='mps:0')\n",
      "tensor([[0.0694, 0.8735, 0.0571]], device='mps:0')\n",
      "Predicted tensor([1], device='mps:0'), Labels tensor([2], device='mps:0')\n",
      "tensor([[0.0075, 0.9419, 0.0506]], device='mps:0')\n",
      "Predicted tensor([1], device='mps:0'), Labels tensor([2], device='mps:0')\n",
      "tensor([[0.0074, 0.9100, 0.0827]], device='mps:0')\n",
      "Predicted tensor([1], device='mps:0'), Labels tensor([1], device='mps:0')\n",
      "Classification Report:\n",
      "              precision    recall  f1-score   support\n",
      "\n",
      "           0       0.00      0.00      0.00         3\n",
      "           1       0.40      1.00      0.57         4\n",
      "           2       0.00      0.00      0.00         3\n",
      "\n",
      "    accuracy                           0.40        10\n",
      "   macro avg       0.13      0.33      0.19        10\n",
      "weighted avg       0.16      0.40      0.23        10\n",
      "\n"
     ]
    }
   ],
   "source": [
    "from sklearn.metrics import classification_report\n",
    "\n",
    "cntt = 1\n",
    "for mod in models:\n",
    "    predicted_labels = []\n",
    "    true_labels = []\n",
    "\n",
    "    mod.eval()\n",
    "    mod.to(device)\n",
    "\n",
    "    correct = 0\n",
    "    total = 0\n",
    "\n",
    "    print('=====')\n",
    "    print(f'Model {MOD_DICT[cntt]}')\n",
    "    with torch.no_grad():\n",
    "        for batch in val_loader:\n",
    "            inputs_img, numerical_features, labels = batch\n",
    "            inputs_img, numerical_features, labels = inputs_img.to(device), numerical_features.to(device), labels.to(device)\n",
    "            outputs = mod(inputs_img, numerical_features)\n",
    "            \n",
    "            print(F.softmax(outputs, dim=1))\n",
    "            _, predicted = torch.max(outputs, 1)\n",
    "            total += labels.size(0)\n",
    "            correct += (predicted == labels).sum().item()\n",
    "            print(f'Predicted {predicted}, Labels {labels}')\n",
    "\n",
    "            # Append predicted and true labels to the lists\n",
    "            predicted_labels.extend(predicted.cpu().numpy())\n",
    "            true_labels.extend(labels.cpu().numpy())\n",
    "\n",
    "    cntt += 1\n",
    "\n",
    "    # Calculate and print the classification report\n",
    "    print(\"Classification Report:\")\n",
    "    print(classification_report(true_labels, predicted_labels, zero_division=0 ))"
   ]
  },
  {
   "cell_type": "markdown",
   "metadata": {},
   "source": [
    "# Inference"
   ]
  },
  {
   "cell_type": "code",
   "execution_count": 23,
   "metadata": {},
   "outputs": [],
   "source": [
    "for mod in sym_models:\n",
    "    mod.eval()\n",
    "    mod.to(device)"
   ]
  },
  {
   "cell_type": "code",
   "execution_count": 30,
   "metadata": {},
   "outputs": [],
   "source": [
    "test_image_path = '../../dataset/v1/tampak_depan/hiqmatul.jpg'\n",
    "\n",
    "test_image = Image.open(test_image_path).convert(\"RGB\")\n",
    "transform = val_transform\n",
    "test_image = transform(test_image).unsqueeze(0)\n",
    "test_image = test_image.to(device)"
   ]
  },
  {
   "cell_type": "code",
   "execution_count": 25,
   "metadata": {},
   "outputs": [
    {
     "name": "stdout",
     "output_type": "stream",
     "text": [
      "EfficientNet\n",
      "Simetris? tidak\n"
     ]
    }
   ],
   "source": [
    "with torch.no_grad():\n",
    "    output = sym_models[0](test_image)\n",
    "    _, predicted_class = torch.max(output, 1)\n",
    "    pred_class = sym_task.encoding_dict[predicted_class.item()]\n",
    "    print('EfficientNet')\n",
    "    print('Simetris?', pred_class)"
   ]
  },
  {
   "cell_type": "code",
   "execution_count": 26,
   "metadata": {},
   "outputs": [
    {
     "name": "stdout",
     "output_type": "stream",
     "text": [
      "MobileNet\n",
      "Simetris? ya\n"
     ]
    }
   ],
   "source": [
    "with torch.no_grad():\n",
    "    output = sym_models[1](test_image)\n",
    "    _, predicted_class = torch.max(output, 1)\n",
    "    pred_class = sym_task.encoding_dict[predicted_class.item()]\n",
    "    print('MobileNet')\n",
    "    print('Simetris?', pred_class)"
   ]
  },
  {
   "cell_type": "code",
   "execution_count": 27,
   "metadata": {},
   "outputs": [
    {
     "name": "stdout",
     "output_type": "stream",
     "text": [
      "ShuffleNet\n",
      "Simetris? tidak\n"
     ]
    }
   ],
   "source": [
    "with torch.no_grad():\n",
    "    output = sym_models[2](test_image)\n",
    "    _, predicted_class = torch.max(output, 1)\n",
    "    pred_class = sym_task.encoding_dict[predicted_class.item()]\n",
    "    print('ShuffleNet')\n",
    "    print('Simetris?', pred_class)"
   ]
  },
  {
   "cell_type": "code",
   "execution_count": 28,
   "metadata": {},
   "outputs": [],
   "source": [
    "def draw_face_bounding_box(image_path, pred_class):\n",
    "    image = cv2.imread(image_path)\n",
    "    face_cascade = cv2.CascadeClassifier('../haarcascade_frontalface_default.xml')\n",
    "    \n",
    "    gray = cv2.cvtColor(image, cv2.COLOR_BGR2GRAY)\n",
    "    faces = face_cascade.detectMultiScale(gray, scaleFactor=1.1, minNeighbors=5, minSize=(30, 30))\n",
    "    for (x, y, w, h) in faces:\n",
    "        image = cv2.rectangle(image, (x, y), (x + w, y + h), (0, 255, 0), 2)\n",
    "        image = cv2.putText(\n",
    "            image\n",
    "            , pred_class\n",
    "            , (x, y-10)\n",
    "            , cv2.FONT_HERSHEY_SIMPLEX\n",
    "            , 0.5 # Font size.\n",
    "            , (255, 255, 255) # Text color\n",
    "        )\n",
    "        \n",
    "    # cv2.imshow('Face Detection', image)\n",
    "    image_pil = Image.fromarray(cv2.cvtColor(image, cv2.COLOR_BGR2RGB))\n",
    "    display(image_pil)"
   ]
  },
  {
   "cell_type": "code",
   "execution_count": 29,
   "metadata": {},
   "outputs": [
    {
     "data": {
      "image/jpeg": "[encoded data removed]",
      "image/png": "[encoded data removed]",
      "text/plain": [
       "<PIL.Image.Image image mode=RGB size=352x465>"
      ]
     },
     "metadata": {},
     "output_type": "display_data"
    }
   ],
   "source": [
    "draw_face_bounding_box(test_image_path, f'Simetris? {pred_class}')"
   ]
  },
  {
   "cell_type": "code",
   "execution_count": null,
   "metadata": {},
   "outputs": [],
   "source": []
  }
 ],
 "metadata": {
  "accelerator": "GPU",
  "colab": {
   "authorship_tag": "ABX9TyNI8a+vbPZCOX45t1mhHzTr",
   "gpuType": "T4",
   "mount_file_id": "1n1V1zBC3VVdHMWrc_BtrOlW7jURDYWVe",
   "provenance": []
  },
  "environment": {
   "kernel": "python3",
   "name": "pytorch-gpu.2-0.m111",
   "type": "gcloud",
   "uri": "gcr.io/deeplearning-platform-release/pytorch-gpu.2-0:m111"
  },
  "kernelspec": {
   "display_name": "skripsi_env",
   "language": "python",
   "name": "skripsi_env"
  },
  "language_info": {
   "codemirror_mode": {
    "name": "ipython",
    "version": 3
   },
   "file_extension": ".py",
   "mimetype": "text/x-python",
   "name": "python",
   "nbconvert_exporter": "python",
   "pygments_lexer": "ipython3",
   "version": "3.9.13"
  }
 },
 "nbformat": 4,
 "nbformat_minor": 4
}
